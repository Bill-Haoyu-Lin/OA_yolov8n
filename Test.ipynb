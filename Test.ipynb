{
 "cells": [
  {
   "cell_type": "markdown",
   "id": "2ce156d2",
   "metadata": {},
   "source": [
    "# Object Detection\n",
    "\n",
    "Your task is to train a model to detect Air conditioner, Chair, PersonsSofa\n",
    "Table\n",
    "Tv\n",
    "Window\n",
    ".\n",
    "\n",
    "Along with the notebook, you'll find a dataset consisting of three categories of training, validation, and testing. The dataset cotains labels, as class of an object and its bounding box coordinates.\n",
    "\n",
    "# Deliverables\n",
    "1. Train an object detector using the YOLO V8 model (yolov8n).\n",
    "2. Evaluate the trained model on the provided test set.\n",
    "3. Provide the test statistics and any comments on the approach, the considerations you’ve made, and the results.\n",
    "\n"
   ]
  },
  {
   "cell_type": "code",
   "execution_count": 2,
   "id": "300d8710",
   "metadata": {},
   "outputs": [
    {
     "name": "stderr",
     "output_type": "stream",
     "text": [
      "c:\\Users\\Bill Lin\\AppData\\Local\\Programs\\Python\\Python39\\lib\\site-packages\\tqdm\\auto.py:22: TqdmWarning: IProgress not found. Please update jupyter and ipywidgets. See https://ipywidgets.readthedocs.io/en/stable/user_install.html\n",
      "  from .autonotebook import tqdm as notebook_tqdm\n"
     ]
    }
   ],
   "source": [
    "from ultralytics import YOLO"
   ]
  },
  {
   "cell_type": "code",
   "execution_count": null,
   "id": "1f5243b4",
   "metadata": {},
   "outputs": [],
   "source": [
    "\n",
    "# Build a YOLOv8n model from pretrained weight\n",
    "#load the model\n",
    "model = YOLO('yolov8n.pt')\n",
    "\n",
    "results = model.train(data=\"./datasets/furniture.yaml\", epochs=200, imgsz=640, device=0)"
   ]
  },
  {
   "cell_type": "code",
   "execution_count": 4,
   "id": "7c30ca52",
   "metadata": {},
   "outputs": [
    {
     "name": "stderr",
     "output_type": "stream",
     "text": [
      "Ultralytics YOLOv8.0.197  Python-3.9.13 torch-1.11.0+cu113 CUDA:0 (NVIDIA GeForce RTX 2060 SUPER, 8192MiB)\n",
      "Model summary (fused): 168 layers, 3007013 parameters, 0 gradients, 8.1 GFLOPs\n",
      "\u001b[34m\u001b[1mval: \u001b[0mScanning C:\\Users\\Bill Lin\\Desktop\\OA_CVE\\datasets\\test\\labels.cache... 24 images, 0 backgrounds, 0 corrupt: 100%|██████████| 24/24 [00:00<?, ?it/s]\n",
      "                 Class     Images  Instances      Box(P          R      mAP50  mAP50-95): 100%|██████████| 1/1 [00:01<00:00,  1.89s/it]\n",
      "                   all         24        105      0.719      0.538      0.591      0.351\n",
      "                    AC         24          3      0.447      0.333      0.372     0.0806\n",
      "                 Chair         24         12      0.482      0.312      0.358      0.228\n",
      "                People         24          2          1          0          0          0\n",
      "                  Sofa         24         29      0.726      0.966      0.933      0.622\n",
      "                 Table         24         21      0.768      0.788      0.816      0.505\n",
      "                    Tv         24         15      0.826        0.8      0.848      0.624\n",
      "                Window         24         23      0.785      0.565      0.813      0.395\n",
      "Speed: 4.0ms preprocess, 7.3ms inference, 0.0ms loss, 2.0ms postprocess per image\n",
      "Results saved to \u001b[1mruns\\detect\\val8\u001b[0m\n"
     ]
    }
   ],
   "source": [
    "model = YOLO(\"runs/detect/train35/weights/best.pt\")\n",
    "\n",
    "validation_results = model.val(data=\"./datasets/furniture.yaml\", imgsz=640, batch=32,device=0)"
   ]
  },
  {
   "cell_type": "code",
   "execution_count": null,
   "id": "917835d4",
   "metadata": {},
   "outputs": [],
   "source": [
    "# This is the simpliest approach to train a yolov8n model base on custom dataset\n",
    "# Due to the size limitation of dataset provided, yolov8n will need more than 1500 instances per class for a good performance. \n",
    "# Most Class performance over 70% on mAP50 but none go over for mAP50-95. \n",
    "# Model is not improving after around 150 iteration. \n",
    "# Some fine tune for futrue improvement can be done. "
   ]
  }
 ],
 "metadata": {
  "kernelspec": {
   "display_name": "Python 3 (ipykernel)",
   "language": "python",
   "name": "python3"
  },
  "language_info": {
   "codemirror_mode": {
    "name": "ipython",
    "version": 3
   },
   "file_extension": ".py",
   "mimetype": "text/x-python",
   "name": "python",
   "nbconvert_exporter": "python",
   "pygments_lexer": "ipython3",
   "version": "3.9.13"
  }
 },
 "nbformat": 4,
 "nbformat_minor": 5
}
